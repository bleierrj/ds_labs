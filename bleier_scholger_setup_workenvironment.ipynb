{
  "cells": [
    {
      "cell_type": "code",
      "execution_count": null,
      "id": "4533a7fc-14fa-4610-a86f-11e0ce6c7423",
      "metadata": {
        "id": "4533a7fc-14fa-4610-a86f-11e0ce6c7423"
      },
      "outputs": [],
      "source": []
    },
    {
      "cell_type": "code",
      "execution_count": null,
      "id": "5f565be1-a914-4ac0-b446-cfc714e48151",
      "metadata": {
        "id": "5f565be1-a914-4ac0-b446-cfc714e48151"
      },
      "outputs": [],
      "source": [
        "# Import Google Drive\n",
        "from google.colab import drive\n",
        "drive.mount('/content/drive/')"
      ]
    },
    {
      "cell_type": "code",
      "execution_count": null,
      "id": "8217cbf7-634f-495c-9f5a-aeaedd7ec1a5",
      "metadata": {
        "id": "8217cbf7-634f-495c-9f5a-aeaedd7ec1a5"
      },
      "outputs": [],
      "source": [
        "# Set drive/MyDrive/ ad base working directory\n",
        "%cd /content/drive/MyDrive/"
      ]
    },
    {
      "cell_type": "code",
      "execution_count": null,
      "id": "f03b6cb5-6b67-42af-a62f-90537157b57a",
      "metadata": {
        "id": "f03b6cb5-6b67-42af-a62f-90537157b57a"
      },
      "outputs": [],
      "source": [
        "# Clone the summer school github repo\n",
        "!git clone https://github.com/bleierr/summer_school_2025.git"
      ]
    },
    {
      "cell_type": "code",
      "execution_count": null,
      "id": "23f470bf-fab3-4322-a605-bb547f90a8e2",
      "metadata": {
        "id": "23f470bf-fab3-4322-a605-bb547f90a8e2"
      },
      "outputs": [],
      "source": [
        "# Set summer_school_2025 working directory\n",
        "%cd summer_school_2025"
      ]
    },
    {
      "cell_type": "code",
      "execution_count": null,
      "id": "8b6a37e5-9e16-4d30-9396-67b788e16e1d",
      "metadata": {
        "id": "8b6a37e5-9e16-4d30-9396-67b788e16e1d"
      },
      "outputs": [],
      "source": [
        "# look at the content of the current working directory\n",
        "%cd ls"
      ]
    },
    {
      "cell_type": "code",
      "execution_count": null,
      "id": "f114f2b1-2e45-40bd-a8e7-e25afd482495",
      "metadata": {
        "id": "f114f2b1-2e45-40bd-a8e7-e25afd482495"
      },
      "outputs": [],
      "source": [
        "# pull updates from the school repository\n",
        "%cd /content/drive/MyDrive/summer_school_2025/\n",
        "!git pull"
      ]
    },
    {
      "cell_type": "code",
      "execution_count": null,
      "id": "3f7c5e10-bd50-4a17-a023-e40215b2ce7a",
      "metadata": {
        "id": "3f7c5e10-bd50-4a17-a023-e40215b2ce7a"
      },
      "outputs": [],
      "source": []
    }
  ],
  "metadata": {
    "kernelspec": {
      "display_name": "Python 3 (ipykernel)",
      "language": "python",
      "name": "python3"
    },
    "language_info": {
      "codemirror_mode": {
        "name": "ipython",
        "version": 3
      },
      "file_extension": ".py",
      "mimetype": "text/x-python",
      "name": "python",
      "nbconvert_exporter": "python",
      "pygments_lexer": "ipython3",
      "version": "3.12.7"
    },
    "colab": {
      "provenance": []
    }
  },
  "nbformat": 4,
  "nbformat_minor": 5
}