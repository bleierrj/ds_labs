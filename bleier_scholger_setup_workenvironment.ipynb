{
  "cells": [
    {
      "cell_type": "code",
      "execution_count": null,
      "id": "4533a7fc-14fa-4610-a86f-11e0ce6c7423",
      "metadata": {
        "id": "4533a7fc-14fa-4610-a86f-11e0ce6c7423"
      },
      "outputs": [],
      "source": []
    },
    {
      "cell_type": "code",
      "execution_count": 1,
      "id": "5f565be1-a914-4ac0-b446-cfc714e48151",
      "metadata": {
        "id": "5f565be1-a914-4ac0-b446-cfc714e48151",
        "outputId": "747afef6-0129-469d-c2fc-5a09e540396b",
        "colab": {
          "base_uri": "https://localhost:8080/"
        }
      },
      "outputs": [
        {
          "output_type": "stream",
          "name": "stdout",
          "text": [
            "Mounted at /content/drive/\n"
          ]
        }
      ],
      "source": [
        "# Import Google Drive\n",
        "from google.colab import drive\n",
        "drive.mount('/content/drive/')"
      ]
    },
    {
      "cell_type": "code",
      "execution_count": 2,
      "id": "8217cbf7-634f-495c-9f5a-aeaedd7ec1a5",
      "metadata": {
        "id": "8217cbf7-634f-495c-9f5a-aeaedd7ec1a5",
        "outputId": "731baaaa-a201-4ffc-8fdb-7d997fa3bf25",
        "colab": {
          "base_uri": "https://localhost:8080/"
        }
      },
      "outputs": [
        {
          "output_type": "stream",
          "name": "stdout",
          "text": [
            "/content/drive/MyDrive\n"
          ]
        }
      ],
      "source": [
        "# Set drive/MyDrive/ ad base working directory\n",
        "%cd /content/drive/MyDrive/"
      ]
    },
    {
      "cell_type": "code",
      "execution_count": 3,
      "id": "f03b6cb5-6b67-42af-a62f-90537157b57a",
      "metadata": {
        "id": "f03b6cb5-6b67-42af-a62f-90537157b57a",
        "outputId": "d57c8adf-c86f-4b03-f7ee-61a173713212",
        "colab": {
          "base_uri": "https://localhost:8080/"
        }
      },
      "outputs": [
        {
          "output_type": "stream",
          "name": "stdout",
          "text": [
            "Cloning into 'summer_school_2025'...\n",
            "remote: Enumerating objects: 8, done.\u001b[K\n",
            "remote: Counting objects: 100% (8/8), done.\u001b[K\n",
            "remote: Compressing objects: 100% (8/8), done.\u001b[K\n",
            "remote: Total 8 (delta 1), reused 7 (delta 0), pack-reused 0 (from 0)\u001b[K\n",
            "Receiving objects: 100% (8/8), 140.95 KiB | 1.17 MiB/s, done.\n",
            "Resolving deltas: 100% (1/1), done.\n"
          ]
        }
      ],
      "source": [
        "# Clone the summer school github repo\n",
        "!git clone https://github.com/bleierr/summer_school_2025.git"
      ]
    },
    {
      "cell_type": "code",
      "execution_count": 4,
      "id": "23f470bf-fab3-4322-a605-bb547f90a8e2",
      "metadata": {
        "id": "23f470bf-fab3-4322-a605-bb547f90a8e2",
        "outputId": "17f4f159-672d-49d7-efc9-a230e5c591b1",
        "colab": {
          "base_uri": "https://localhost:8080/"
        }
      },
      "outputs": [
        {
          "output_type": "stream",
          "name": "stdout",
          "text": [
            "/content/drive/MyDrive/summer_school_2025\n"
          ]
        }
      ],
      "source": [
        "# Set summer_school_2025 working directory\n",
        "%cd summer_school_2025"
      ]
    },
    {
      "cell_type": "code",
      "execution_count": 6,
      "id": "8b6a37e5-9e16-4d30-9396-67b788e16e1d",
      "metadata": {
        "id": "8b6a37e5-9e16-4d30-9396-67b788e16e1d",
        "outputId": "714dc6e1-14be-45cd-a874-948f42c5fe5b",
        "colab": {
          "base_uri": "https://localhost:8080/"
        }
      },
      "outputs": [
        {
          "output_type": "stream",
          "name": "stdout",
          "text": [
            "bleier_scholger_prepare_a_dataset.ipynb\n",
            "bleier_scholger_setup_workenvironment.ipynb\n",
            "ParlaMint-IT-en_2022-01-03-LEG18-Senato-sed-392.ana.xml\n"
          ]
        }
      ],
      "source": [
        "# look at the content of the current working directory\n",
        "%ls"
      ]
    },
    {
      "cell_type": "code",
      "execution_count": 7,
      "id": "f114f2b1-2e45-40bd-a8e7-e25afd482495",
      "metadata": {
        "id": "f114f2b1-2e45-40bd-a8e7-e25afd482495",
        "outputId": "87597e35-30f1-486e-d5b8-22f88cc8e3fc",
        "colab": {
          "base_uri": "https://localhost:8080/"
        }
      },
      "outputs": [
        {
          "output_type": "stream",
          "name": "stdout",
          "text": [
            "/content/drive/MyDrive/summer_school_2025\n",
            "Already up to date.\n"
          ]
        }
      ],
      "source": [
        "# pull updates from the school repository\n",
        "%cd /content/drive/MyDrive/summer_school_2025/\n",
        "!git pull"
      ]
    },
    {
      "cell_type": "code",
      "execution_count": 10,
      "id": "3f7c5e10-bd50-4a17-a023-e40215b2ce7a",
      "metadata": {
        "id": "3f7c5e10-bd50-4a17-a023-e40215b2ce7a",
        "outputId": "c8f31876-fe0d-43eb-841c-fc164ffcfaaf",
        "colab": {
          "base_uri": "https://localhost:8080/"
        }
      },
      "outputs": [
        {
          "output_type": "stream",
          "name": "stdout",
          "text": [
            "On branch main\n",
            "Your branch is up to date with 'origin/main'.\n",
            "\n",
            "nothing to commit, working tree clean\n"
          ]
        }
      ],
      "source": [
        "!git status"
      ]
    }
  ],
  "metadata": {
    "kernelspec": {
      "display_name": "Python 3 (ipykernel)",
      "language": "python",
      "name": "python3"
    },
    "language_info": {
      "codemirror_mode": {
        "name": "ipython",
        "version": 3
      },
      "file_extension": ".py",
      "mimetype": "text/x-python",
      "name": "python",
      "nbconvert_exporter": "python",
      "pygments_lexer": "ipython3",
      "version": "3.12.7"
    },
    "colab": {
      "provenance": []
    }
  },
  "nbformat": 4,
  "nbformat_minor": 5
}