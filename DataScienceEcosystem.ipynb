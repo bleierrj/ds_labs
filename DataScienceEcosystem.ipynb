{
 "cells": [
  {
   "cell_type": "markdown",
   "id": "489899c4-1f7b-448b-8037-ae05b2052395",
   "metadata": {},
   "source": [
    "# Data Science Tools and Ecosystem"
   ]
  },
  {
   "cell_type": "markdown",
   "id": "d1f151f3-3e48-4a8a-aea7-81ed33c741eb",
   "metadata": {},
   "source": [
    "## Author\n",
    "Roman Bleier"
   ]
  },
  {
   "cell_type": "markdown",
   "id": "55a07759-3239-48dc-93a6-eaedb7bbe06d",
   "metadata": {},
   "source": [
    "This notebook is part of an assignment for the IBM DS course. In this notebook, Data Science Tools and Ecosystem are summarized."
   ]
  },
  {
   "cell_type": "markdown",
   "id": "1e1f5a40-a869-4743-9fc2-0ff8f7e924e0",
   "metadata": {},
   "source": [
    "**Objectives:**\n",
    "- List popular languages for Data Science\n",
    "- List some commonly used libraries\n",
    "- List Data Science tools in a table\n",
    "- Evaluate simple arithmetic expressions with Python "
   ]
  },
  {
   "cell_type": "markdown",
   "id": "2c2362bb-ab04-431b-ab17-7779e4869028",
   "metadata": {},
   "source": [
    "Some of the popular languages that Data Scientists use are:\n",
    "1. R\n",
    "2. Python\n",
    "3. Julia\n",
    "4. SQL\n",
    "5. JavaScript"
   ]
  },
  {
   "cell_type": "markdown",
   "id": "76f758a1-647a-47eb-872a-5cd3e8a97b22",
   "metadata": {},
   "source": [
    "Some of the commonly used libraries used by Data Scientists include:\n",
    "1. Pandas\n",
    "2. Numpy\n",
    "3. Matplotlib\n",
    "4. Plotly"
   ]
  },
  {
   "cell_type": "markdown",
   "id": "911b105e-be38-4579-8c25-6cc05a3567ea",
   "metadata": {},
   "source": [
    "|Data Science Tools|\n",
    "-------------------\n",
    "|Jupyter Notebook|\n",
    "|RStudio|\n",
    "|Kaggle|\n",
    "|Google CoLab|"
   ]
  },
  {
   "cell_type": "markdown",
   "id": "39c940c0-329e-4b5e-8643-34477b1e2460",
   "metadata": {},
   "source": [
    "### Below are a few examples of evaluating arithmetic expressions in Python"
   ]
  },
  {
   "cell_type": "code",
   "execution_count": 4,
   "id": "c00aa22e-e886-4ebc-a0f1-8e2a8137be47",
   "metadata": {},
   "outputs": [
    {
     "data": {
      "text/plain": [
       "17"
      ]
     },
     "execution_count": 4,
     "metadata": {},
     "output_type": "execute_result"
    }
   ],
   "source": [
    "#This a simple arithmetic expression to mutiply then add integers\n",
    "(3*4)+5"
   ]
  },
  {
   "cell_type": "code",
   "execution_count": 5,
   "id": "b0ae75e5-891b-443f-a099-f7f231386479",
   "metadata": {},
   "outputs": [
    {
     "data": {
      "text/plain": [
       "3.3333333333333335"
      ]
     },
     "execution_count": 5,
     "metadata": {},
     "output_type": "execute_result"
    }
   ],
   "source": [
    "#This will convert 200 minutes to hours by diving by 60\n",
    "200/60"
   ]
  }
 ],
 "metadata": {
  "kernelspec": {
   "display_name": "Python 3 (ipykernel)",
   "language": "python",
   "name": "python3"
  },
  "language_info": {
   "codemirror_mode": {
    "name": "ipython",
    "version": 3
   },
   "file_extension": ".py",
   "mimetype": "text/x-python",
   "name": "python",
   "nbconvert_exporter": "python",
   "pygments_lexer": "ipython3",
   "version": "3.12.4"
  }
 },
 "nbformat": 4,
 "nbformat_minor": 5
}
